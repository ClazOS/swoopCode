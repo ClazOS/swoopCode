{
 "metadata": {
  "name": "",
  "signature": "sha256:d8321c7cbc849ef4e72d71edc5f3d8dcebd08fd8b5a5c122e220ccd4b2c4e550"
 },
 "nbformat": 3,
 "nbformat_minor": 0,
 "worksheets": [
  {
   "cells": [
    {
     "cell_type": "markdown",
     "metadata": {},
     "source": [
      "#Mining the Social Web, 2nd Edition\n",
      "\n",
      "##Chapter 1: Mining Twitter: Exploring Trending Topics, Discovering What People Are Talking About, and More\n",
      "\n",
      "This IPython Notebook provides an interactive way to follow along with and explore the numbered examples from [_Mining the Social Web (2nd Edition)_](http://bit.ly/135dHfs). The intent behind this notebook is to reinforce the concepts from the sample code in a fun, convenient, and effective way. This notebook assumes that you are reading along with the book and have the context of the discussion as you work through these exercises.\n",
      "\n",
      "In the somewhat unlikely event that you've somehow stumbled across this notebook outside of its context on GitHub, [you can find the full source code repository here](http://bit.ly/16kGNyb).\n",
      "\n",
      "## Copyright and Licensing\n",
      "\n",
      "You are free to use or adapt this notebook for any purpose you'd like. However, please respect the [Simplified BSD License](https://github.com/ptwobrussell/Mining-the-Social-Web-2nd-Edition/blob/master/LICENSE.txt) that governs its use."
     ]
    },
    {
     "cell_type": "markdown",
     "metadata": {},
     "source": [
      "# Twitter API Access\n",
      "\n",
      "Twitter implements OAuth 1.0A as its standard authentication mechanism, and in order to use it to make requests to Twitter's API, you'll need to go to https://dev.twitter.com/apps and create a sample application. There are four primary identifiers you'll need to note for an OAuth 1.0A workflow: consumer key, consumer secret, access token, and access token secret. Note that you will need an ordinary Twitter account in order to login, create an app, and get these credentials.\n",
      "\n",
      "<img src=\"files/resources/ch01-twitter/images/Twitter-AppCredentials.png\" width=\"600px\">"
     ]
    },
    {
     "cell_type": "markdown",
     "metadata": {},
     "source": [
      "If you are taking advantage of the virtual machine experience for this chapter that is powered by Vagrant, you should just be able to execute the code in this notebook without any worries whatsoever about installing dependencies. If you are running the code from your own development envioronment, however, be advised that these examples in this chapter take advantage of a Python package called [twitter](https://github.com/sixohsix/twitter) to make API calls. You can install this package in a terminal with [pip](https://pypi.python.org/pypi/pip) with the command `pip install twitter`, preferably from within a [Python virtual environment](https://pypi.python.org/pypi/virtualenv). "
     ]
    },
    {
     "cell_type": "markdown",
     "metadata": {},
     "source": [
      "Once installed, you should be able to open up a Python interpreter (or better yet, your [IPython](http://ipython.org/) interpreter) and get rolling."
     ]
    },
    {
     "cell_type": "heading",
     "level": 2,
     "metadata": {},
     "source": [
      "Example 1. Authorizing an application to access Twitter account data"
     ]
    },
    {
     "cell_type": "code",
     "collapsed": false,
     "input": [
      "import twitter\n",
      "\n",
      "# XXX: Go to http://dev.twitter.com/apps/new to create an app and get values\n",
      "# for these credentials, which you'll need to provide in place of these\n",
      "# empty string values that are defined as placeholders.\n",
      "# See https://dev.twitter.com/docs/auth/oauth for more information \n",
      "# on Twitter's OAuth implementation.\n",
      "\n",
      "CONSUMER_KEY = 'IkgKVEyGGQUzfjjZFAvMbodxF'\n",
      "CONSUMER_SECRET ='HdzrI7MVKTKfRcqeK5dpsmn0BiBfKZbJ8QjqFCMspiGYc9vFG3'\n",
      "OAUTH_TOKEN = '2193344742-iKr46uz1hRPvlmcC38JiTU0qRlJtJf5p2NylN2L'\n",
      "OAUTH_TOKEN_SECRET = 'zAocuHCcugEIwvtp4IQX0f1RsplbrhR3ERbS7BqEUVwEq'\n",
      "\n",
      "auth = twitter.oauth.OAuth(OAUTH_TOKEN, OAUTH_TOKEN_SECRET,\n",
      "                           CONSUMER_KEY, CONSUMER_SECRET)\n",
      "\n",
      "twitter_api = twitter.Twitter(auth=auth)\n",
      "\n",
      "# Nothing to see by displaying twitter_api except that it's now a\n",
      "# defined variable\n",
      "\n",
      "print twitter_api"
     ],
     "language": "python",
     "metadata": {},
     "outputs": [
      {
       "output_type": "stream",
       "stream": "stdout",
       "text": [
        "<twitter.api.Twitter object at 0x10e25ad90>\n"
       ]
      }
     ],
     "prompt_number": 2
    },
    {
     "cell_type": "heading",
     "level": 2,
     "metadata": {},
     "source": [
      "Example 2. Retrieving trends"
     ]
    },
    {
     "cell_type": "code",
     "collapsed": false,
     "input": [
      "# The Yahoo! Where On Earth ID for the entire world is 1.\n",
      "# See https://dev.twitter.com/docs/api/1.1/get/trends/place and\n",
      "# http://developer.yahoo.com/geo/geoplanet/\n",
      "\n",
      "WORLD_WOE_ID = 1\n",
      "US_WOE_ID = 23424977\n",
      "\n",
      "# Prefix ID with the underscore for query string parameterization.\n",
      "# Without the underscore, the twitter package appends the ID value\n",
      "# to the URL itself as a special case keyword argument.\n",
      "\n",
      "world_trends = twitter_api.trends.place(_id=WORLD_WOE_ID)\n",
      "us_trends = twitter_api.trends.place(_id=US_WOE_ID)\n",
      "\n",
      "print world_trends\n",
      "print\n",
      "print us_trends"
     ],
     "language": "python",
     "metadata": {},
     "outputs": [
      {
       "output_type": "stream",
       "stream": "stdout",
       "text": [
        "[{u'created_at': u'2014-11-06T00:05:37Z', u'trends': [{u'url': u'http://twitter.com/search?q=%23Whatsappbuchon', u'query': u'%23Whatsappbuchon', u'name': u'#Whatsappbuchon', u'promoted_content': None}, {u'url': u'http://twitter.com/search?q=%23HappyWuYiFanDay', u'query': u'%23HappyWuYiFanDay', u'name': u'#HappyWuYiFanDay', u'promoted_content': None}, {u'url': u'http://twitter.com/search?q=%22TwitSuvarisi+UykuyaDireniyor%22', u'query': u'%22TwitSuvarisi+UykuyaDireniyor%22', u'name': u'TwitSuvarisi UykuyaDireniyor', u'promoted_content': None}, {u'url': u'http://twitter.com/search?q=%23YoPropongo', u'query': u'%23YoPropongo', u'name': u'#YoPropongo', u'promoted_content': None}, {u'url': u'http://twitter.com/search?q=%23HastaSiempreViveCantando', u'query': u'%23HastaSiempreViveCantando', u'name': u'#HastaSiempreViveCantando', u'promoted_content': None}, {u'url': u'http://twitter.com/search?q=%239YearsWithSuperJunior', u'query': u'%239YearsWithSuperJunior', u'name': u'#9YearsWithSuperJunior', u'promoted_content': None}, {u'url': u'http://twitter.com/search?q=Wanchope', u'query': u'Wanchope', u'name': u'Wanchope', u'promoted_content': None}, {u'url': u'http://twitter.com/search?q=%22Who+Is+Felicity+Smoak%22', u'query': u'%22Who+Is+Felicity+Smoak%22', u'name': u'Who Is Felicity Smoak', u'promoted_content': None}, {u'url': u'http://twitter.com/search?q=Giordano', u'query': u'Giordano', u'name': u'Giordano', u'promoted_content': None}, {u'url': u'http://twitter.com/search?q=%22Majora%27s+Mask+3D%22', u'query': u'%22Majora%27s+Mask+3D%22', u'name': u\"Majora's Mask 3D\", u'promoted_content': None}], u'as_of': u'2014-11-06T00:16:45Z', u'locations': [{u'woeid': 1, u'name': u'Worldwide'}]}]\n",
        "\n",
        "[{u'created_at': u'2014-11-06T00:05:37Z', u'trends': [{u'url': u'http://twitter.com/search?q=%23IfIWasInCharge', u'query': u'%23IfIWasInCharge', u'name': u'#IfIWasInCharge', u'promoted_content': None}, {u'url': u'http://twitter.com/search?q=%231DFOURHANGOUT', u'query': u'%231DFOURHANGOUT', u'name': u'#1DFOURHANGOUT', u'promoted_content': None}, {u'url': u'http://twitter.com/search?q=%23CalIMeCam', u'query': u'%23CalIMeCam', u'name': u'#CalIMeCam', u'promoted_content': None}, {u'url': u'http://twitter.com/search?q=%22Majora%27s+Mask+3D%22', u'query': u'%22Majora%27s+Mask+3D%22', u'name': u\"Majora's Mask 3D\", u'promoted_content': None}, {u'url': u'http://twitter.com/search?q=%23RuinAComedian', u'query': u'%23RuinAComedian', u'name': u'#RuinAComedian', u'promoted_content': None}, {u'url': u'http://twitter.com/search?q=%22Bonfire+Night%22', u'query': u'%22Bonfire+Night%22', u'name': u'Bonfire Night', u'promoted_content': None}, {u'url': u'http://twitter.com/search?q=%23WordsIn2Days', u'query': u'%23WordsIn2Days', u'name': u'#WordsIn2Days', u'promoted_content': None}, {u'url': u'http://twitter.com/search?q=Jessup', u'query': u'Jessup', u'name': u'Jessup', u'promoted_content': None}, {u'url': u'http://twitter.com/search?q=%225th+of+November%22', u'query': u'%225th+of+November%22', u'name': u'5th of November', u'promoted_content': None}, {u'url': u'http://twitter.com/search?q=%22Watching+Baby+Boy%22', u'query': u'%22Watching+Baby+Boy%22', u'name': u'Watching Baby Boy', u'promoted_content': None}], u'as_of': u'2014-11-06T00:16:45Z', u'locations': [{u'woeid': 23424977, u'name': u'United States'}]}]\n"
       ]
      }
     ],
     "prompt_number": 3
    },
    {
     "cell_type": "heading",
     "level": 2,
     "metadata": {},
     "source": [
      "Example 3. Displaying API responses as pretty-printed JSON"
     ]
    },
    {
     "cell_type": "code",
     "collapsed": false,
     "input": [
      "import json\n",
      "\n",
      "print json.dumps(world_trends, indent=1)\n",
      "print\n",
      "print json.dumps(us_trends, indent=1)"
     ],
     "language": "python",
     "metadata": {},
     "outputs": [
      {
       "output_type": "stream",
       "stream": "stdout",
       "text": [
        "[\n",
        " {\n",
        "  \"created_at\": \"2014-11-06T00:05:37Z\", \n",
        "  \"trends\": [\n",
        "   {\n",
        "    \"url\": \"http://twitter.com/search?q=%23Whatsappbuchon\", \n",
        "    \"query\": \"%23Whatsappbuchon\", \n",
        "    \"name\": \"#Whatsappbuchon\", \n",
        "    \"promoted_content\": null\n",
        "   }, \n",
        "   {\n",
        "    \"url\": \"http://twitter.com/search?q=%23HappyWuYiFanDay\", \n",
        "    \"query\": \"%23HappyWuYiFanDay\", \n",
        "    \"name\": \"#HappyWuYiFanDay\", \n",
        "    \"promoted_content\": null\n",
        "   }, \n",
        "   {\n",
        "    \"url\": \"http://twitter.com/search?q=%22TwitSuvarisi+UykuyaDireniyor%22\", \n",
        "    \"query\": \"%22TwitSuvarisi+UykuyaDireniyor%22\", \n",
        "    \"name\": \"TwitSuvarisi UykuyaDireniyor\", \n",
        "    \"promoted_content\": null\n",
        "   }, \n",
        "   {\n",
        "    \"url\": \"http://twitter.com/search?q=%23YoPropongo\", \n",
        "    \"query\": \"%23YoPropongo\", \n",
        "    \"name\": \"#YoPropongo\", \n",
        "    \"promoted_content\": null\n",
        "   }, \n",
        "   {\n",
        "    \"url\": \"http://twitter.com/search?q=%23HastaSiempreViveCantando\", \n",
        "    \"query\": \"%23HastaSiempreViveCantando\", \n",
        "    \"name\": \"#HastaSiempreViveCantando\", \n",
        "    \"promoted_content\": null\n",
        "   }, \n",
        "   {\n",
        "    \"url\": \"http://twitter.com/search?q=%239YearsWithSuperJunior\", \n",
        "    \"query\": \"%239YearsWithSuperJunior\", \n",
        "    \"name\": \"#9YearsWithSuperJunior\", \n",
        "    \"promoted_content\": null\n",
        "   }, \n",
        "   {\n",
        "    \"url\": \"http://twitter.com/search?q=Wanchope\", \n",
        "    \"query\": \"Wanchope\", \n",
        "    \"name\": \"Wanchope\", \n",
        "    \"promoted_content\": null\n",
        "   }, \n",
        "   {\n",
        "    \"url\": \"http://twitter.com/search?q=%22Who+Is+Felicity+Smoak%22\", \n",
        "    \"query\": \"%22Who+Is+Felicity+Smoak%22\", \n",
        "    \"name\": \"Who Is Felicity Smoak\", \n",
        "    \"promoted_content\": null\n",
        "   }, \n",
        "   {\n",
        "    \"url\": \"http://twitter.com/search?q=Giordano\", \n",
        "    \"query\": \"Giordano\", \n",
        "    \"name\": \"Giordano\", \n",
        "    \"promoted_content\": null\n",
        "   }, \n",
        "   {\n",
        "    \"url\": \"http://twitter.com/search?q=%22Majora%27s+Mask+3D%22\", \n",
        "    \"query\": \"%22Majora%27s+Mask+3D%22\", \n",
        "    \"name\": \"Majora's Mask 3D\", \n",
        "    \"promoted_content\": null\n",
        "   }\n",
        "  ], \n",
        "  \"as_of\": \"2014-11-06T00:16:45Z\", \n",
        "  \"locations\": [\n",
        "   {\n",
        "    \"woeid\": 1, \n",
        "    \"name\": \"Worldwide\"\n",
        "   }\n",
        "  ]\n",
        " }\n",
        "]\n",
        "\n",
        "[\n",
        " {\n",
        "  \"created_at\": \"2014-11-06T00:05:37Z\", \n",
        "  \"trends\": [\n",
        "   {\n",
        "    \"url\": \"http://twitter.com/search?q=%23IfIWasInCharge\", \n",
        "    \"query\": \"%23IfIWasInCharge\", \n",
        "    \"name\": \"#IfIWasInCharge\", \n",
        "    \"promoted_content\": null\n",
        "   }, \n",
        "   {\n",
        "    \"url\": \"http://twitter.com/search?q=%231DFOURHANGOUT\", \n",
        "    \"query\": \"%231DFOURHANGOUT\", \n",
        "    \"name\": \"#1DFOURHANGOUT\", \n",
        "    \"promoted_content\": null\n",
        "   }, \n",
        "   {\n",
        "    \"url\": \"http://twitter.com/search?q=%23CalIMeCam\", \n",
        "    \"query\": \"%23CalIMeCam\", \n",
        "    \"name\": \"#CalIMeCam\", \n",
        "    \"promoted_content\": null\n",
        "   }, \n",
        "   {\n",
        "    \"url\": \"http://twitter.com/search?q=%22Majora%27s+Mask+3D%22\", \n",
        "    \"query\": \"%22Majora%27s+Mask+3D%22\", \n",
        "    \"name\": \"Majora's Mask 3D\", \n",
        "    \"promoted_content\": null\n",
        "   }, \n",
        "   {\n",
        "    \"url\": \"http://twitter.com/search?q=%23RuinAComedian\", \n",
        "    \"query\": \"%23RuinAComedian\", \n",
        "    \"name\": \"#RuinAComedian\", \n",
        "    \"promoted_content\": null\n",
        "   }, \n",
        "   {\n",
        "    \"url\": \"http://twitter.com/search?q=%22Bonfire+Night%22\", \n",
        "    \"query\": \"%22Bonfire+Night%22\", \n",
        "    \"name\": \"Bonfire Night\", \n",
        "    \"promoted_content\": null\n",
        "   }, \n",
        "   {\n",
        "    \"url\": \"http://twitter.com/search?q=%23WordsIn2Days\", \n",
        "    \"query\": \"%23WordsIn2Days\", \n",
        "    \"name\": \"#WordsIn2Days\", \n",
        "    \"promoted_content\": null\n",
        "   }, \n",
        "   {\n",
        "    \"url\": \"http://twitter.com/search?q=Jessup\", \n",
        "    \"query\": \"Jessup\", \n",
        "    \"name\": \"Jessup\", \n",
        "    \"promoted_content\": null\n",
        "   }, \n",
        "   {\n",
        "    \"url\": \"http://twitter.com/search?q=%225th+of+November%22\", \n",
        "    \"query\": \"%225th+of+November%22\", \n",
        "    \"name\": \"5th of November\", \n",
        "    \"promoted_content\": null\n",
        "   }, \n",
        "   {\n",
        "    \"url\": \"http://twitter.com/search?q=%22Watching+Baby+Boy%22\", \n",
        "    \"query\": \"%22Watching+Baby+Boy%22\", \n",
        "    \"name\": \"Watching Baby Boy\", \n",
        "    \"promoted_content\": null\n",
        "   }\n",
        "  ], \n",
        "  \"as_of\": \"2014-11-06T00:16:45Z\", \n",
        "  \"locations\": [\n",
        "   {\n",
        "    \"woeid\": 23424977, \n",
        "    \"name\": \"United States\"\n",
        "   }\n",
        "  ]\n",
        " }\n",
        "]\n"
       ]
      }
     ],
     "prompt_number": 4
    },
    {
     "cell_type": "heading",
     "level": 2,
     "metadata": {},
     "source": [
      "Example 4. Computing the intersection of two sets of trends"
     ]
    },
    {
     "cell_type": "code",
     "collapsed": false,
     "input": [
      "world_trends_set = set([trend['name'] \n",
      "                        for trend in world_trends[0]['trends']])\n",
      "\n",
      "us_trends_set = set([trend['name'] \n",
      "                     for trend in us_trends[0]['trends']]) \n",
      "\n",
      "common_trends = world_trends_set.intersection(us_trends_set)\n",
      "\n",
      "print common_trends"
     ],
     "language": "python",
     "metadata": {},
     "outputs": [
      {
       "output_type": "stream",
       "stream": "stdout",
       "text": [
        "set([u\"Majora's Mask 3D\"])\n"
       ]
      }
     ],
     "prompt_number": 5
    },
    {
     "cell_type": "heading",
     "level": 2,
     "metadata": {},
     "source": [
      "Example 5. Collecting search results"
     ]
    },
    {
     "cell_type": "code",
     "collapsed": false,
     "input": [
      "# XXX: Set this variable to a trending topic, \n",
      "# or anything else for that matter. The example query below\n",
      "# was a trending topic when this content was being developed\n",
      "# and is used throughout the remainder of this chapter.\n",
      "\n",
      "q = '$TSLA' \n",
      "\n",
      "count = 100\n",
      "\n",
      "# See https://dev.twitter.com/docs/api/1.1/get/search/tweets\n",
      "\n",
      "search_results = twitter_api.search.tweets(q=q, count=count)\n",
      "\n",
      "statuses = search_results['statuses']\n",
      "\n",
      "\n",
      "# Iterate through 5 more batches of results by following the cursor\n",
      "\n",
      "for _ in range(5):\n",
      "    print \"Length of statuses\", len(statuses)\n",
      "    try:\n",
      "        next_results = search_results['search_metadata']['next_results']\n",
      "    except KeyError, e: # No more results when next_results doesn't exist\n",
      "        break\n",
      "        \n",
      "    # Create a dictionary from next_results, which has the following form:\n",
      "    # ?max_id=313519052523986943&q=NCAA&include_entities=1\n",
      "    kwargs = dict([ kv.split('=') for kv in next_results[1:].split(\"&\") ])\n",
      "    \n",
      "    search_results = twitter_api.search.tweets(**kwargs)\n",
      "    statuses += search_results['statuses']\n",
      "\n",
      "# Show one sample search result by slicing the list...\n",
      "print json.dumps(statuses[0], indent=1)"
     ],
     "language": "python",
     "metadata": {},
     "outputs": [
      {
       "output_type": "stream",
       "stream": "stdout",
       "text": [
        "Length of statuses 100\n",
        "Length of statuses"
       ]
      },
      {
       "output_type": "stream",
       "stream": "stdout",
       "text": [
        " 200\n",
        "Length of statuses"
       ]
      },
      {
       "output_type": "stream",
       "stream": "stdout",
       "text": [
        " 200\n",
        "{\n",
        " \"contributors\": null, \n",
        " \"truncated\": false, \n",
        " \"text\": \"RT @StockTwits: TOTAL NUMBER OF TESLA MODEL S's SOLD\\n\\n2012: 2,650\\n2013: 25,000\\n2014: 33,000 (expected)\\n\\nCHART: http://t.co/42kyDNbgrT $TSLA\", \n",
        " \"in_reply_to_status_id\": null, \n",
        " \"id\": 530151651101773824, \n",
        " \"favorite_count\": 0, \n",
        " \"source\": \"<a href=\\\"http://www.tweetcaster.com\\\" rel=\\\"nofollow\\\">TweetCaster for Android</a>\", \n",
        " \"retweeted\": false, \n",
        " \"coordinates\": null, \n",
        " \"entities\": {\n",
        "  \"symbols\": [\n",
        "   {\n",
        "    \"indices\": [\n",
        "     134, \n",
        "     139\n",
        "    ], \n",
        "    \"text\": \"TSLA\"\n",
        "   }\n",
        "  ], \n",
        "  \"user_mentions\": [\n",
        "   {\n",
        "    \"id\": 14886375, \n",
        "    \"indices\": [\n",
        "     3, \n",
        "     14\n",
        "    ], \n",
        "    \"id_str\": \"14886375\", \n",
        "    \"screen_name\": \"StockTwits\", \n",
        "    \"name\": \"StockTwits\"\n",
        "   }\n",
        "  ], \n",
        "  \"hashtags\": [], \n",
        "  \"urls\": [\n",
        "   {\n",
        "    \"url\": \"http://t.co/42kyDNbgrT\", \n",
        "    \"indices\": [\n",
        "     111, \n",
        "     133\n",
        "    ], \n",
        "    \"expanded_url\": \"http://stks.co/g1GmI\", \n",
        "    \"display_url\": \"stks.co/g1GmI\"\n",
        "   }\n",
        "  ]\n",
        " }, \n",
        " \"in_reply_to_screen_name\": null, \n",
        " \"in_reply_to_user_id\": null, \n",
        " \"retweet_count\": 15, \n",
        " \"id_str\": \"530151651101773824\", \n",
        " \"favorited\": false, \n",
        " \"retweeted_status\": {\n",
        "  \"contributors\": null, \n",
        "  \"truncated\": false, \n",
        "  \"text\": \"TOTAL NUMBER OF TESLA MODEL S's SOLD\\n\\n2012: 2,650\\n2013: 25,000\\n2014: 33,000 (expected)\\n\\nCHART: http://t.co/42kyDNbgrT $TSLA\", \n",
        "  \"in_reply_to_status_id\": null, \n",
        "  \"id\": 530147117558296576, \n",
        "  \"favorite_count\": 4, \n",
        "  \"source\": \"<a href=\\\"http://twitter.com\\\" rel=\\\"nofollow\\\">Twitter Web Client</a>\", \n",
        "  \"retweeted\": false, \n",
        "  \"coordinates\": null, \n",
        "  \"entities\": {\n",
        "   \"symbols\": [\n",
        "    {\n",
        "     \"indices\": [\n",
        "      118, \n",
        "      123\n",
        "     ], \n",
        "     \"text\": \"TSLA\"\n",
        "    }\n",
        "   ], \n",
        "   \"user_mentions\": [], \n",
        "   \"hashtags\": [], \n",
        "   \"urls\": [\n",
        "    {\n",
        "     \"url\": \"http://t.co/42kyDNbgrT\", \n",
        "     \"indices\": [\n",
        "      95, \n",
        "      117\n",
        "     ], \n",
        "     \"expanded_url\": \"http://stks.co/g1GmI\", \n",
        "     \"display_url\": \"stks.co/g1GmI\"\n",
        "    }\n",
        "   ]\n",
        "  }, \n",
        "  \"in_reply_to_screen_name\": null, \n",
        "  \"in_reply_to_user_id\": null, \n",
        "  \"retweet_count\": 15, \n",
        "  \"id_str\": \"530147117558296576\", \n",
        "  \"favorited\": false, \n",
        "  \"user\": {\n",
        "   \"follow_request_sent\": false, \n",
        "   \"profile_use_background_image\": true, \n",
        "   \"profile_text_color\": \"171717\", \n",
        "   \"default_profile_image\": false, \n",
        "   \"id\": 14886375, \n",
        "   \"profile_background_image_url_https\": \"https://pbs.twimg.com/profile_background_images/371870912/stocktwits_twitter_bg.gif\", \n",
        "   \"verified\": false, \n",
        "   \"profile_location\": null, \n",
        "   \"profile_image_url_https\": \"https://pbs.twimg.com/profile_images/504997228167970816/sEMJrRmS_normal.png\", \n",
        "   \"profile_sidebar_fill_color\": \"EEEEEE\", \n",
        "   \"entities\": {\n",
        "    \"url\": {\n",
        "     \"urls\": [\n",
        "      {\n",
        "       \"url\": \"http://t.co/yyRNBEnVWl\", \n",
        "       \"indices\": [\n",
        "        0, \n",
        "        22\n",
        "       ], \n",
        "       \"expanded_url\": \"http://www.stocktwits.com\", \n",
        "       \"display_url\": \"stocktwits.com\"\n",
        "      }\n",
        "     ]\n",
        "    }, \n",
        "    \"description\": {\n",
        "     \"urls\": [\n",
        "      {\n",
        "       \"url\": \"http://t.co/HcUJPQsBmp\", \n",
        "       \"indices\": [\n",
        "        78, \n",
        "        100\n",
        "       ], \n",
        "       \"expanded_url\": \"http://stocktwits.com\", \n",
        "       \"display_url\": \"stocktwits.com\"\n",
        "      }\n",
        "     ]\n",
        "    }\n",
        "   }, \n",
        "   \"followers_count\": 384180, \n",
        "   \"profile_sidebar_border_color\": \"DDDDDD\", \n",
        "   \"id_str\": \"14886375\", \n",
        "   \"profile_background_color\": \"FFFFFF\", \n",
        "   \"listed_count\": 6455, \n",
        "   \"is_translation_enabled\": false, \n",
        "   \"utc_offset\": -28800, \n",
        "   \"statuses_count\": 44588, \n",
        "   \"description\": \"We created the $ prefix for stocks (e.g. $MSFT). Follow @StockTwits and go to http://t.co/HcUJPQsBmp for real-time ideas and stock conversations.\", \n",
        "   \"friends_count\": 106998, \n",
        "   \"location\": \"New York, NY\", \n",
        "   \"profile_link_color\": \"40576F\", \n",
        "   \"profile_image_url\": \"http://pbs.twimg.com/profile_images/504997228167970816/sEMJrRmS_normal.png\", \n",
        "   \"following\": false, \n",
        "   \"geo_enabled\": false, \n",
        "   \"profile_banner_url\": \"https://pbs.twimg.com/profile_banners/14886375/1411519293\", \n",
        "   \"profile_background_image_url\": \"http://pbs.twimg.com/profile_background_images/371870912/stocktwits_twitter_bg.gif\", \n",
        "   \"name\": \"StockTwits\", \n",
        "   \"lang\": \"en\", \n",
        "   \"profile_background_tile\": false, \n",
        "   \"favourites_count\": 3549, \n",
        "   \"screen_name\": \"StockTwits\", \n",
        "   \"notifications\": false, \n",
        "   \"url\": \"http://t.co/yyRNBEnVWl\", \n",
        "   \"created_at\": \"Fri May 23 20:53:49 +0000 2008\", \n",
        "   \"contributors_enabled\": false, \n",
        "   \"time_zone\": \"Pacific Time (US & Canada)\", \n",
        "   \"protected\": false, \n",
        "   \"default_profile\": false, \n",
        "   \"is_translator\": false\n",
        "  }, \n",
        "  \"geo\": null, \n",
        "  \"in_reply_to_user_id_str\": null, \n",
        "  \"possibly_sensitive\": false, \n",
        "  \"lang\": \"en\", \n",
        "  \"created_at\": \"Wed Nov 05 23:58:17 +0000 2014\", \n",
        "  \"in_reply_to_status_id_str\": null, \n",
        "  \"place\": null, \n",
        "  \"metadata\": {\n",
        "   \"iso_language_code\": \"en\", \n",
        "   \"result_type\": \"recent\"\n",
        "  }\n",
        " }, \n",
        " \"user\": {\n",
        "  \"follow_request_sent\": false, \n",
        "  \"profile_use_background_image\": true, \n",
        "  \"profile_text_color\": \"333333\", \n",
        "  \"default_profile_image\": false, \n",
        "  \"id\": 143131280, \n",
        "  \"profile_background_image_url_https\": \"https://pbs.twimg.com/profile_background_images/233648491/IMG_5556.jpg\", \n",
        "  \"verified\": false, \n",
        "  \"profile_location\": null, \n",
        "  \"profile_image_url_https\": \"https://pbs.twimg.com/profile_images/894715095/bighorn_normal.jpg\", \n",
        "  \"profile_sidebar_fill_color\": \"EFEFEF\", \n",
        "  \"entities\": {\n",
        "   \"url\": {\n",
        "    \"urls\": [\n",
        "     {\n",
        "      \"url\": \"http://t.co/lE7yR2fEX3\", \n",
        "      \"indices\": [\n",
        "       0, \n",
        "       22\n",
        "      ], \n",
        "      \"expanded_url\": \"http://themaxwellmark.blogspot.com\", \n",
        "      \"display_url\": \"themaxwellmark.blogspot.com\"\n",
        "     }\n",
        "    ]\n",
        "   }, \n",
        "   \"description\": {\n",
        "    \"urls\": []\n",
        "   }\n",
        "  }, \n",
        "  \"followers_count\": 376, \n",
        "  \"profile_sidebar_border_color\": \"EEEEEE\", \n",
        "  \"id_str\": \"143131280\", \n",
        "  \"profile_background_color\": \"131516\", \n",
        "  \"listed_count\": 10, \n",
        "  \"is_translation_enabled\": false, \n",
        "  \"utc_offset\": -21600, \n",
        "  \"statuses_count\": 14170, \n",
        "  \"description\": \"Tech, finance, and wx enthusiast. Biz dev @weatherdectech. MBA candidate & OKC evangelist. Tweets are my own genius. #ThunderUP #Boomer #TeamInfinitiRedBull\", \n",
        "  \"friends_count\": 321, \n",
        "  \"location\": \"O.K.C.\", \n",
        "  \"profile_link_color\": \"009999\", \n",
        "  \"profile_image_url\": \"http://pbs.twimg.com/profile_images/894715095/bighorn_normal.jpg\", \n",
        "  \"following\": false, \n",
        "  \"geo_enabled\": true, \n",
        "  \"profile_banner_url\": \"https://pbs.twimg.com/profile_banners/143131280/1379563800\", \n",
        "  \"profile_background_image_url\": \"http://pbs.twimg.com/profile_background_images/233648491/IMG_5556.jpg\", \n",
        "  \"name\": \"Lance Maxwell\", \n",
        "  \"lang\": \"en\", \n",
        "  \"profile_background_tile\": false, \n",
        "  \"favourites_count\": 1279, \n",
        "  \"screen_name\": \"lmaxwell11\", \n",
        "  \"notifications\": false, \n",
        "  \"url\": \"http://t.co/lE7yR2fEX3\", \n",
        "  \"created_at\": \"Wed May 12 17:36:11 +0000 2010\", \n",
        "  \"contributors_enabled\": false, \n",
        "  \"time_zone\": \"Central Time (US & Canada)\", \n",
        "  \"protected\": false, \n",
        "  \"default_profile\": false, \n",
        "  \"is_translator\": false\n",
        " }, \n",
        " \"geo\": null, \n",
        " \"in_reply_to_user_id_str\": null, \n",
        " \"possibly_sensitive\": false, \n",
        " \"lang\": \"en\", \n",
        " \"created_at\": \"Thu Nov 06 00:16:18 +0000 2014\", \n",
        " \"in_reply_to_status_id_str\": null, \n",
        " \"place\": null, \n",
        " \"metadata\": {\n",
        "  \"iso_language_code\": \"en\", \n",
        "  \"result_type\": \"recent\"\n",
        " }\n",
        "}\n"
       ]
      }
     ],
     "prompt_number": 6
    },
    {
     "cell_type": "heading",
     "level": 2,
     "metadata": {},
     "source": [
      "Example 6. Extracting text, screen names, and hashtags from tweets"
     ]
    },
    {
     "cell_type": "code",
     "collapsed": false,
     "input": [
      "status_texts = [ status['text'] \n",
      "                 for status in statuses ]\n",
      "\n",
      "screen_names = [ user_mention['screen_name'] \n",
      "                 for status in statuses\n",
      "                     for user_mention in status['entities']['user_mentions'] ]\n",
      "\n",
      "hashtags = [ hashtag['text'] \n",
      "             for status in statuses\n",
      "                 for hashtag in status['entities']['hashtags'] ]\n",
      "\n",
      "# Compute a collection of all words from all tweets\n",
      "words = [ w \n",
      "          for t in status_texts \n",
      "              for w in t.split() ]\n",
      "\n",
      "# Explore the first 5 items for each...\n",
      "\n",
      "print json.dumps(status_texts[0:5], indent=1)\n",
      "print json.dumps(screen_names[0:5], indent=1) \n",
      "print json.dumps(hashtags[0:5], indent=1)\n",
      "print json.dumps(words[0:5], indent=1)"
     ],
     "language": "python",
     "metadata": {},
     "outputs": [
      {
       "output_type": "stream",
       "stream": "stdout",
       "text": [
        "[\n",
        " \"RT @StockTwits: TOTAL NUMBER OF TESLA MODEL S's SOLD\\n\\n2012: 2,650\\n2013: 25,000\\n2014: 33,000 (expected)\\n\\nCHART: http://t.co/42kyDNbgrT $TSLA\", \n",
        " \"$TSLA +7% $247 analysts press non-existent \\\"demand\\\" issue while ignoring \\\"backlog\\\" consequences; Elon Musk explains:  http://t.co/Va7QNZ0O3H\", \n",
        " \"RT @philstockworld: $TSLA earns 0.02 per $240 share - p/e now barely 3,000 so suck it haters! ;) http://t.co/yiOUdTAKWr\", \n",
        " \"RT @philstockworld: $TSLA earns 0.02 per $240 share - p/e now barely 3,000 so suck it haters! ;) http://t.co/yiOUdTAKWr\", \n",
        " \"RT @Briefingcom: $TSLA: Tesla Motors beats by $0.02, beats on revs; lowers FY14 delivery guidance on production miss; guides Q4 EPS... http\\u2026\"\n",
        "]\n",
        "[\n",
        " \"StockTwits\", \n",
        " \"philstockworld\", \n",
        " \"philstockworld\", \n",
        " \"Briefingcom\", \n",
        " \"philstockworld\"\n",
        "]\n",
        "[\n",
        " \"HFT\", \n",
        " \"Tesla\", \n",
        " \"Tesla\", \n",
        " \"Tesla\", \n",
        " \"Nasdaq100\"\n",
        "]\n",
        "[\n",
        " \"RT\", \n",
        " \"@StockTwits:\", \n",
        " \"TOTAL\", \n",
        " \"NUMBER\", \n",
        " \"OF\"\n",
        "]\n"
       ]
      }
     ],
     "prompt_number": 7
    },
    {
     "cell_type": "heading",
     "level": 2,
     "metadata": {},
     "source": [
      "Example 7. Creating a basic frequency distribution from the words in tweets"
     ]
    },
    {
     "cell_type": "code",
     "collapsed": false,
     "input": [
      "from collections import Counter\n",
      "\n",
      "for item in [words, screen_names, hashtags]:\n",
      "    c = Counter(item)\n",
      "    print c.most_common()[:10] # top 10\n",
      "    print"
     ],
     "language": "python",
     "metadata": {},
     "outputs": [
      {
       "output_type": "stream",
       "stream": "stdout",
       "text": [
        "[(u'$TSLA', 178), (u'RT', 134), (u'-', 91), (u'it', 82), (u'now', 79), (u'$240', 78), (u';)', 78), (u'share', 78), (u'haters!', 78), (u'suck', 78)]\n",
        "\n",
        "[(u'philstockworld', 78), (u'StockTwits', 15), (u'MarketWatch', 14), (u'DougKass', 9), (u'elonmusk', 5), (u'Lebeaucarnews', 5), (u'TheBluePrinter', 4), (u'teslaliving', 3), (u'TeslaMotors', 2), (u'aztecs99', 2)]\n",
        "\n",
        "[(u'Tesla', 12), (u'elonmusk', 4), (u'stocks', 4), (u'Daimler', 4), (u'Toyota', 4), (u'trading', 3), (u'TSLA', 2), (u'tesla', 2), (u'awesome', 1), (u'HFT', 1)]\n",
        "\n"
       ]
      }
     ],
     "prompt_number": 8
    },
    {
     "cell_type": "heading",
     "level": 2,
     "metadata": {},
     "source": [
      "Example 8. Using prettytable to display tuples in a nice tabular format"
     ]
    },
    {
     "cell_type": "code",
     "collapsed": false,
     "input": [
      "from prettytable import PrettyTable\n",
      "\n",
      "for label, data in (('Word', words), \n",
      "                    ('Screen Name', screen_names), \n",
      "                    ('Hashtag', hashtags)):\n",
      "    pt = PrettyTable(field_names=[label, 'Count']) \n",
      "    c = Counter(data)\n",
      "    [ pt.add_row(kv) for kv in c.most_common()[:10] ]\n",
      "    pt.align[label], pt.align['Count'] = 'l', 'r' # Set column alignment\n",
      "    print pt"
     ],
     "language": "python",
     "metadata": {},
     "outputs": [
      {
       "output_type": "stream",
       "stream": "stdout",
       "text": [
        "+---------+-------+\n",
        "| Word    | Count |\n",
        "+---------+-------+\n",
        "| $TSLA   |   178 |\n",
        "| RT      |   134 |\n",
        "| -       |    91 |\n",
        "| it      |    82 |\n",
        "| now     |    79 |\n",
        "| $240    |    78 |\n",
        "| ;)      |    78 |\n",
        "| share   |    78 |\n",
        "| haters! |    78 |\n",
        "| suck    |    78 |\n",
        "+---------+-------+\n",
        "+----------------+-------+\n",
        "| Screen Name    | Count |\n",
        "+----------------+-------+\n",
        "| philstockworld |    78 |\n",
        "| StockTwits     |    15 |\n",
        "| MarketWatch    |    14 |\n",
        "| DougKass       |     9 |\n",
        "| elonmusk       |     5 |\n",
        "| Lebeaucarnews  |     5 |\n",
        "| TheBluePrinter |     4 |\n",
        "| teslaliving    |     3 |\n",
        "| TeslaMotors    |     2 |\n",
        "| aztecs99       |     2 |\n",
        "+----------------+-------+\n",
        "+----------+-------+\n",
        "| Hashtag  | Count |\n",
        "+----------+-------+\n",
        "| Tesla    |    12 |\n",
        "| elonmusk |     4 |\n",
        "| stocks   |     4 |\n",
        "| Daimler  |     4 |\n",
        "| Toyota   |     4 |\n",
        "| trading  |     3 |\n",
        "| TSLA     |     2 |\n",
        "| tesla    |     2 |\n",
        "| awesome  |     1 |\n",
        "| HFT      |     1 |\n",
        "+----------+-------+\n"
       ]
      }
     ],
     "prompt_number": 9
    },
    {
     "cell_type": "heading",
     "level": 2,
     "metadata": {},
     "source": [
      "Example 9. Calculating lexical diversity for tweets"
     ]
    },
    {
     "cell_type": "code",
     "collapsed": false,
     "input": [
      "# A function for computing lexical diversity\n",
      "def lexical_diversity(tokens):\n",
      "    return 1.0*len(set(tokens))/len(tokens) \n",
      "\n",
      "# A function for computing the average number of words per tweet\n",
      "def average_words(statuses):\n",
      "    total_words = sum([ len(s.split()) for s in statuses ]) \n",
      "    return 1.0*total_words/len(statuses)\n",
      "\n",
      "print lexical_diversity(words)\n",
      "print lexical_diversity(screen_names)\n",
      "print lexical_diversity(hashtags)\n",
      "print average_words(status_texts)"
     ],
     "language": "python",
     "metadata": {},
     "outputs": [
      {
       "output_type": "stream",
       "stream": "stdout",
       "text": [
        "0.233623188406\n",
        "0.2\n",
        "0.509090909091\n",
        "17.25\n"
       ]
      }
     ],
     "prompt_number": 10
    },
    {
     "cell_type": "heading",
     "level": 2,
     "metadata": {},
     "source": [
      "Example 10. Finding the most popular retweets"
     ]
    },
    {
     "cell_type": "code",
     "collapsed": false,
     "input": [
      "retweets = [\n",
      "            # Store out a tuple of these three values ...\n",
      "            (status['retweet_count'], \n",
      "             status['retweeted_status']['user']['screen_name'],\n",
      "             status['text']) \n",
      "            \n",
      "            # ... for each status ...\n",
      "            for status in statuses \n",
      "            \n",
      "            # ... so long as the status meets this condition.\n",
      "                if status.has_key('retweeted_status')\n",
      "           ]\n",
      "\n",
      "# Slice off the first 5 from the sorted results and display each item in the tuple\n",
      "\n",
      "pt = PrettyTable(field_names=['Count', 'Screen Name', 'Text'])\n",
      "[ pt.add_row(row) for row in sorted(retweets, reverse=True)[:5] ]\n",
      "pt.max_width['Text'] = 50\n",
      "pt.align= 'l'\n",
      "print pt"
     ],
     "language": "python",
     "metadata": {},
     "outputs": [
      {
       "output_type": "stream",
       "stream": "stdout",
       "text": [
        "+-------+----------------+----------------------------------------------------+\n",
        "| Count | Screen Name    | Text                                               |\n",
        "+-------+----------------+----------------------------------------------------+\n",
        "| 393   | philstockworld | RT @philstockworld: $TSLA earns 0.02 per $240      |\n",
        "|       |                | share - p/e now barely 3,000 so suck it haters! ;) |\n",
        "|       |                | http://t.co/yiOUdTAKWr                             |\n",
        "| 393   | philstockworld | RT @philstockworld: $TSLA earns 0.02 per $240      |\n",
        "|       |                | share - p/e now barely 3,000 so suck it haters! ;) |\n",
        "|       |                | http://t.co/yiOUdTAKWr                             |\n",
        "| 393   | philstockworld | RT @philstockworld: $TSLA earns 0.02 per $240      |\n",
        "|       |                | share - p/e now barely 3,000 so suck it haters! ;) |\n",
        "|       |                | http://t.co/yiOUdTAKWr                             |\n",
        "| 393   | philstockworld | RT @philstockworld: $TSLA earns 0.02 per $240      |\n",
        "|       |                | share - p/e now barely 3,000 so suck it haters! ;) |\n",
        "|       |                | http://t.co/yiOUdTAKWr                             |\n",
        "| 393   | philstockworld | RT @philstockworld: $TSLA earns 0.02 per $240      |\n",
        "|       |                | share - p/e now barely 3,000 so suck it haters! ;) |\n",
        "|       |                | http://t.co/yiOUdTAKWr                             |\n",
        "+-------+----------------+----------------------------------------------------+\n"
       ]
      }
     ],
     "prompt_number": 11
    },
    {
     "cell_type": "heading",
     "level": 2,
     "metadata": {},
     "source": [
      "Example 11. Looking up users who have retweeted a status"
     ]
    },
    {
     "cell_type": "code",
     "collapsed": false,
     "input": [
      "# Get the original tweet id for a tweet from its retweeted_status node \n",
      "# and insert it here in place of the sample value that is provided\n",
      "# from the text of the book\n",
      "\n",
      "_retweets = twitter_api.statuses.retweets(id=317127304981667841)\n",
      "print [r['user']['screen_name'] for r in _retweets]"
     ],
     "language": "python",
     "metadata": {},
     "outputs": [
      {
       "output_type": "stream",
       "stream": "stdout",
       "text": [
        "[u'jyeee', u'Ceejaynatics', u'Majendalove', u'shameeennnn', u'EmilyearoRuiz', u'Oliviyaaay', u'ShikaynaAryan', u'LoveKyana18', u'iiaamcamille', u'AileenPangan', u'kidamgos', u'ShaaaronOng', u'asdfghjbl']\n"
       ]
      }
     ],
     "prompt_number": 12
    },
    {
     "cell_type": "heading",
     "level": 2,
     "metadata": {},
     "source": [
      "Example 12. Plotting frequencies of words"
     ]
    },
    {
     "cell_type": "code",
     "collapsed": false,
     "input": [
      "import matplotlib.pyplot as plt\n",
      "\n",
      "word_counts = sorted(Counter(words).values(), reverse=True)\n",
      "\n",
      "plt.loglog(word_counts)\n",
      "plt.ylabel(\"Freq\")\n",
      "plt.xlabel(\"Word Rank\")"
     ],
     "language": "python",
     "metadata": {},
     "outputs": [
      {
       "metadata": {},
       "output_type": "pyout",
       "prompt_number": 13,
       "text": [
        "<matplotlib.text.Text at 0x10f8b1a50>"
       ]
      }
     ],
     "prompt_number": 13
    },
    {
     "cell_type": "heading",
     "level": 2,
     "metadata": {},
     "source": [
      "Example 13. Generating histograms of words, screen names, and hashtags"
     ]
    },
    {
     "cell_type": "heading",
     "level": 4,
     "metadata": {},
     "source": [
      "for label, data in (('Words', words), \n",
      "                    ('Screen Names', screen_names), \n",
      "                    ('Hashtags', hashtags)):\n",
      "\n",
      "    # Build a frequency map for each set of data\n",
      "    # and plot the values\n",
      "    c = Counter(data)\n",
      "    plt.hist(c.values())\n",
      "    \n",
      "    # Add a title and y-label ...\n",
      "    plt.title(label)\n",
      "    plt.ylabel(\"Number of items in bin\")\n",
      "    plt.xlabel(\"Bins (number of times an item appeared)\")\n",
      "    \n",
      "    # ... and display as a new figure\n",
      "    plt.figure()"
     ]
    },
    {
     "cell_type": "heading",
     "level": 2,
     "metadata": {},
     "source": [
      "Example 14. Generating a histogram of retweet counts"
     ]
    },
    {
     "cell_type": "code",
     "collapsed": false,
     "input": [
      "# Using underscores while unpacking values in\n",
      "# a tuple is idiomatic for discarding them\n",
      "\n",
      "counts = [count for count, _, _ in retweets]\n",
      "\n",
      "plt.hist(counts)\n",
      "plt.title(\"Retweets\")\n",
      "plt.xlabel('Bins (number of times retweeted)')\n",
      "plt.ylabel('Number of tweets in bin')\n",
      "\n",
      "print counts"
     ],
     "language": "python",
     "metadata": {},
     "outputs": [
      {
       "output_type": "stream",
       "stream": "stdout",
       "text": [
        "[15, 393, 393, 1, 393, 393, 393, 7, 35, 393, 393, 393, 393, 15, 3, 393, 15, 393, 393, 393, 393, 15, 393, 393, 393, 1, 393, 393, 393, 1, 35, 15, 15, 393, 393, 393, 393, 3, 393, 393, 15, 393, 3, 15, 15, 9, 15, 15, 1, 15, 393, 15, 15, 393, 393, 393, 35, 393, 393, 1, 393, 7, 393, 1, 393, 393, 7, 393, 3, 1, 393, 393, 393, 393, 35, 393, 5, 393, 393, 393, 393, 393, 393, 393, 393, 393, 393, 35, 2, 393, 393, 393, 2, 393, 35, 9, 35, 393, 393, 5, 393, 393, 393, 393, 35, 393, 393, 9, 393, 393, 393, 35, 393, 35, 393, 393, 35, 393, 393, 393, 35, 7, 393, 1, 393, 35, 393, 35, 7, 393]\n"
       ]
      }
     ],
     "prompt_number": 14
    },
    {
     "cell_type": "markdown",
     "metadata": {},
     "source": [
      "Note: This histogram gives you an idea of how many times tweets are retweeted with the x-axis defining partitions for tweets that have been retweeted some number of times and the y-axis telling you how many tweets fell into each bin. For example, a y-axis value of 5 for the \"15-20 bin\" on the x-axis means that there were 5 tweets that were retweeted between 15 and 20 times.\n",
      "\n",
      "Here's another variation that transforms the data using the (automatically imported from numpy) log function in order to improve the resolution of the plot."
     ]
    },
    {
     "cell_type": "code",
     "collapsed": false,
     "input": [
      "# Using underscores while unpacking values in\n",
      "# a tuple is idiomatic for discarding them\n",
      "\n",
      "counts = [count for count, _, _ in retweets]\n",
      "\n",
      "# Taking the log of the *data values* themselves can \n",
      "# often provide quick and valuable insight into the\n",
      "# underlying distribution as well. Try it back on\n",
      "# Example 13 and see if it helps.\n",
      "\n",
      "plt.hist(log(counts))\n",
      "plt.title(\"Retweets\")\n",
      "plt.xlabel('Log[Bins (number of times retweeted)]')\n",
      "plt.ylabel('Log[Number of tweets in bin]')\n",
      "\n",
      "print log(counts)"
     ],
     "language": "python",
     "metadata": {},
     "outputs": [
      {
       "ename": "NameError",
       "evalue": "name 'log' is not defined",
       "output_type": "pyerr",
       "traceback": [
        "\u001b[0;31m---------------------------------------------------------------------------\u001b[0m\n\u001b[0;31mNameError\u001b[0m                                 Traceback (most recent call last)",
        "\u001b[0;32m<ipython-input-15-0941d50391b4>\u001b[0m in \u001b[0;36m<module>\u001b[0;34m()\u001b[0m\n\u001b[1;32m      9\u001b[0m \u001b[0;31m# Example 13 and see if it helps.\u001b[0m\u001b[0;34m\u001b[0m\u001b[0;34m\u001b[0m\u001b[0m\n\u001b[1;32m     10\u001b[0m \u001b[0;34m\u001b[0m\u001b[0m\n\u001b[0;32m---> 11\u001b[0;31m \u001b[0mplt\u001b[0m\u001b[0;34m.\u001b[0m\u001b[0mhist\u001b[0m\u001b[0;34m(\u001b[0m\u001b[0mlog\u001b[0m\u001b[0;34m(\u001b[0m\u001b[0mcounts\u001b[0m\u001b[0;34m)\u001b[0m\u001b[0;34m)\u001b[0m\u001b[0;34m\u001b[0m\u001b[0m\n\u001b[0m\u001b[1;32m     12\u001b[0m \u001b[0mplt\u001b[0m\u001b[0;34m.\u001b[0m\u001b[0mtitle\u001b[0m\u001b[0;34m(\u001b[0m\u001b[0;34m\"Retweets\"\u001b[0m\u001b[0;34m)\u001b[0m\u001b[0;34m\u001b[0m\u001b[0m\n\u001b[1;32m     13\u001b[0m \u001b[0mplt\u001b[0m\u001b[0;34m.\u001b[0m\u001b[0mxlabel\u001b[0m\u001b[0;34m(\u001b[0m\u001b[0;34m'Log[Bins (number of times retweeted)]'\u001b[0m\u001b[0;34m)\u001b[0m\u001b[0;34m\u001b[0m\u001b[0m\n",
        "\u001b[0;31mNameError\u001b[0m: name 'log' is not defined"
       ]
      }
     ],
     "prompt_number": 15
    }
   ],
   "metadata": {}
  }
 ]
}