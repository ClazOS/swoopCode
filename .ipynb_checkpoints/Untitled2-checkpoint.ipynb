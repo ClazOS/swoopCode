{
 "metadata": {
  "name": "",
  "signature": "sha256:adb204c9811cac6fcf6cdf825e5e83d75236c01fb6e904bafa4a8a04b4fd4906"
 },
 "nbformat": 3,
 "nbformat_minor": 0,
 "worksheets": []
}